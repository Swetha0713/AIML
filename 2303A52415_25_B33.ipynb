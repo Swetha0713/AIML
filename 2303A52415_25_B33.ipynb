{
  "nbformat": 4,
  "nbformat_minor": 0,
  "metadata": {
    "colab": {
      "provenance": [],
      "authorship_tag": "ABX9TyMXNmUHd+yuxSQqKf/Cj5uh",
      "include_colab_link": true
    },
    "kernelspec": {
      "name": "python3",
      "display_name": "Python 3"
    },
    "language_info": {
      "name": "python"
    }
  },
  "cells": [
    {
      "cell_type": "markdown",
      "metadata": {
        "id": "view-in-github",
        "colab_type": "text"
      },
      "source": [
        "<a href=\"https://colab.research.google.com/github/Swetha0713/AIML/blob/main/2303A52415_25_B33.ipynb\" target=\"_parent\"><img src=\"https://colab.research.google.com/assets/colab-badge.svg\" alt=\"Open In Colab\"/></a>"
      ]
    },
    {
      "cell_type": "code",
      "source": [
        "import pandas as pd\n",
        "from sklearn.cluster import KMeans\n",
        "from sklearn.preprocessing import StandardScaler\n",
        "from sklearn.model_selection import train_test_split\n",
        "from sklearn.ensemble import RandomForestClassifier\n",
        "from sklearn.metrics import classification_report\n",
        "\n",
        "# Load the dataset\n",
        "data = pd.read_csv(\"/content/buddymove_holidayiq.csv\")\n",
        "\n",
        "# 1. Identify the top 5 attributes for South India destinations\n",
        "attribute_means = data.iloc[:, 1:].mean().sort_values(ascending=False)\n",
        "top_5_attributes = attribute_means.head(5)\n",
        "print(\"Top 5 attributes for South Indian destinations:\")\n",
        "print(top_5_attributes)\n",
        "\n",
        "# 2. Identify the attribute with the most liked travel spots\n",
        "most_liked_attribute = attribute_means.idxmax()\n",
        "print(\"\\nMost liked travel attribute:\", most_liked_attribute)\n",
        "\n",
        "# 3. Find the max and min attributes of choice for South India tourism\n",
        "max_attribute = attribute_means.idxmax()\n",
        "min_attribute = attribute_means.idxmin()\n",
        "print(\"\\nMax attribute:\", max_attribute)\n",
        "print(\"Min attribute:\", min_attribute)\n",
        "\n",
        "# 4. Role of beaches, theatres, malls, and parks in South India tourism\n",
        "specific_attributes = [\"Theatre\", \"Shopping\"]\n",
        "print(\"\\nRole of specific attributes:\")\n",
        "for attr in specific_attributes:\n",
        "    print(f\"{attr}: {attribute_means[attr]} (average score)\")\n",
        "\n",
        "# 5. Identify the sports with most attributes\n",
        "# Assuming \"Sports\" is an attribute, we'll calculate its correlation with other attributes\n",
        "# Exclude the 'User Id' column from correlation calculation\n",
        "sports_correlation = data.drop(columns=['User Id']).corr()[\"Sports\"].sort_values(ascending=False)\n",
        "print(\"\\nSports attribute correlations:\")\n",
        "print(sports_correlation)\n",
        "\n",
        "# 6. Apply either classification or clustering model to evaluate the dataset\n",
        "\n",
        "# Preprocessing for clustering\n",
        "scaler = StandardScaler()\n",
        "scaled_data = scaler.fit_transform(data.iloc[:, 1:])\n",
        "\n",
        "# Clustering using KMeans\n",
        "kmeans = KMeans(n_clusters=3, random_state=42)\n",
        "data[\"Cluster\"] = kmeans.fit_predict(scaled_data)\n",
        "print(\"\\nCluster centers:\")\n",
        "print(kmeans.cluster_centers_)\n",
        "\n",
        "# Classification example: Predict a cluster based on the attributes\n",
        "X = data.iloc[:, 1:-1]  # Features\n",
        "y = data[\"Cluster\"]     # Target (clusters)\n",
        "X_train, X_test, y_train, y_test = train_test_split(X, y, test_size=0.2, random_state=42)\n",
        "\n",
        "# Train a RandomForestClassifier\n",
        "clf = RandomForestClassifier(random_state=42)\n",
        "clf.fit(X_train, y_train)\n",
        "\n",
        "# Evaluate the classifier\n",
        "y_pred = clf.predict(X_test)\n",
        "print(\"\\nClassification Report:\")\n",
        "print(classification_report(y_test, y_pred))"
      ],
      "metadata": {
        "colab": {
          "base_uri": "https://localhost:8080/"
        },
        "id": "Eo9mSXHHxArp",
        "outputId": "b1d0e9db-3cff-479b-bbbd-627b2622864f"
      },
      "execution_count": 2,
      "outputs": [
        {
          "output_type": "stream",
          "name": "stdout",
          "text": [
            "Top 5 attributes for South Indian destinations:\n",
            "Nature       124.518072\n",
            "Picnic       120.401606\n",
            "Theatre      116.377510\n",
            "Shopping     112.638554\n",
            "Religious    109.779116\n",
            "dtype: float64\n",
            "\n",
            "Most liked travel attribute: Nature\n",
            "\n",
            "Max attribute: Nature\n",
            "Min attribute: Sports\n",
            "\n",
            "Role of specific attributes:\n",
            "Theatre: 116.37751004016064 (average score)\n",
            "Shopping: 112.63855421686748 (average score)\n",
            "\n",
            "Sports attribute correlations:\n",
            "Sports       1.000000\n",
            "Picnic       0.797777\n",
            "Religious    0.623400\n",
            "Theatre      0.611728\n",
            "Nature       0.608372\n",
            "Shopping     0.583956\n",
            "Name: Sports, dtype: float64\n",
            "\n",
            "Cluster centers:\n",
            "[[ 0.73986327 -0.10300074  1.00745058  0.82308075 -0.14356567  0.47312211]\n",
            " [ 0.84827553  1.41327686 -0.32501768  0.08400616  1.40829171  0.89676263]\n",
            " [-0.92940902 -0.62286356 -0.53848777 -0.6116467  -0.59230393 -0.7683803 ]]\n",
            "\n",
            "Classification Report:\n",
            "              precision    recall  f1-score   support\n",
            "\n",
            "           0       0.89      0.94      0.91        17\n",
            "           1       0.91      0.83      0.87        12\n",
            "           2       1.00      1.00      1.00        21\n",
            "\n",
            "    accuracy                           0.94        50\n",
            "   macro avg       0.93      0.92      0.93        50\n",
            "weighted avg       0.94      0.94      0.94        50\n",
            "\n"
          ]
        }
      ]
    }
  ]
}